{
 "cells": [
  {
   "cell_type": "markdown",
   "metadata": {},
   "source": [
    "\n",
    "# Installing MUSE\n",
    "\n",
    "This hands-on exercise will show you how to install MUSE on your computer.\n",
    "\n",
    "If at any point you get stuck with any of these exercises, feel free to post a question in the [MUSE Google group](https://groups.google.com/g/muse-model), or raise an issue on [Github](https://github.com/EnergySystemsModellingLab/MUSE_OS). You can also consult the full MUSE documentation [here](https://muse-os.readthedocs.io/en/v1.2.0/).\n",
    "\n",
    "## Creating a virtual environment\n",
    "\n",
    "MUSE is built as a Python package (called `muse_os`), so installing MUSE requires Python to be installed on your machine. This version of the course is based on `muse_os` version 1.2.0, which requires Python 3.9 to 3.12 (we would recommend 3.12). In this tutorial, we will show you how to set up an environment with Python 3.12 and install `muse_os` into that environment. If you're already comfortable creating Python environments and installing packages, feel free to do this however you choose. Otherwise, please read on.\n",
    "\n",
    "The simplest method to install Python is by downloading the [Anaconda distribution](https://www.anaconda.com/). Once installed on your machine, this will allow you to create isolated environments containing all the dependencies needed for a project, with a specific Python version.\n",
    "\n",
    "If you're using Anaconda, you can create and activate an environment by opening up your terminal and running the following commands:\n",
    "\n",
    "    conda create -n muse_env python=3.12\n",
    "    conda activate muse_env\n",
    "\n",
    "Once you've activated the environment, run the following command to install MUSE version 1.2.0:\n",
    "\n",
    "    python -m pip install muse_os==1.2.0\n",
    "\n",
    "Later (for example, when tackling future hands-on exercises in this course), you can return to this environment by simply running:\n",
    "\n",
    "    conda activate muse_env\n",
    "\n",
    "\n",
    "## Confirming the installation\n",
    "\n",
    "To confirm that the installation has worked, run the following in your command line:\n",
    "\n",
    "    python -m muse --model default\n",
    "\n",
    "This command runs the default model that comes with MUSE. If the installation has worked correctly, you should see output text similar to [this](https://muse-os.readthedocs.io/en/v1.2.0/example-output.html).\n",
    "\n",
    "You should also see that a folder called `Results` has been created in your working directory. Don't worry about the contents of this folder for now, as we will be analysing these results in the next exercise.\n",
    "\n",
    "## Conclusions\n",
    "\n",
    "Hopefully you've now managed to install MUSE on your machine, and are ready to tackle the next hands-on exercises.\n",
    "Interested readers can also see [here](https://muse-os.readthedocs.io/en/v1.2.0/installation/index.html) for more detailed installation instructions, including a number of alternative methods for installing MUSE.\n"
   ]
  },
  {
   "cell_type": "markdown",
   "metadata": {},
   "source": []
  }
 ],
 "metadata": {
  "kernelspec": {
   "display_name": "muse_env",
   "language": "python",
   "name": "python3"
  },
  "language_info": {
   "name": "python",
   "version": "3.12.5"
  }
 },
 "nbformat": 4,
 "nbformat_minor": 2
}
