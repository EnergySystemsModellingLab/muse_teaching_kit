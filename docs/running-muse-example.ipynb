{
 "cells": [
  {
   "cell_type": "markdown",
   "metadata": {},
   "source": [
    "# Running MUSE\n",
    "\n",
    "Once MUSE have been installed, we can run an example. To start with, we will run one of the built-in MUSE examples. If you are using MUSE within a virtual environment, make sure you have it activated (refer back to exercise 1 if you need help with this). \n",
    "\n",
    "You should be able to run the default `muse` example running the following command in the terminal:\n",
    "\n",
    "```bash\n",
    "python -m muse --model default\n",
    "```\n",
    "\n",
    "If running correctly, your prompt should output text similar to [this](https://muse-os.readthedocs.io/en/v1.2.1/example-output.html). \n",
    "You can check the available built-in models, as well as information on other input arguments, with:\n",
    "\n",
    "```bash\n",
    "python -m muse -h\n",
    "```\n",
    "\n",
    "A common use case is to take one of the built-in models as the starting point to create your own model. This is the approach we will take in the hands-on exercises in this course. To copy the files for the default model, run:\n",
    "\n",
    "```bash\n",
    "python -m muse --model default --copy path/to/copy/the/model/to\n",
    "```\n",
    "\n",
    "This will create a folder called `model` in the specified path. Navigate to this folder using the `cd` command, and use `ls` to see the contents of this folder.\n",
    "We can then run the simulation using the following command:\n",
    "\n",
    "```bash\n",
    "python -m muse settings.toml\n",
    "```"
   ]
  },
  {
   "cell_type": "markdown",
   "metadata": {},
   "source": [
    "## Results\n",
    "\n",
    "If the default MUSE example has run successfully, you should now have a folder called `Results` in the current working directory.\n",
    "\n",
    "This directory should contain two files:\n",
    "\n",
    "- `MCACapacity.csv`: contains information about the capacity each agent has per technology per benchmark year. Each benchmark year is the modelled year in the `settings.toml` file. In our example, this is 2020, 2025, ..., 2050.\n",
    "\n",
    "- `MCAPrices.csv`: has the converged price of each commodity per benchmark year and timeslice. eg. the cost of electricity at night in 2020.\n",
    "\n",
    "Additional files can be added by modifying `settings.toml`, as will be shown in future exercises.\n",
    "\n",
    "For the hands-on exercises in this course, we will use Python and [Jupyter Notebook](https://jupyter.org) to visualise these simulation results. You can, however, visualise the results using any language or program of your choice (for example Excel, R, MATLAB), but will get the most out of these exercises if you use Jupyter Notebook."
   ]
  },
  {
   "cell_type": "markdown",
   "metadata": {},
   "source": [
    "## Installing Jupyter\n",
    "\n",
    "First, you will need to install Jupyter Notebook in your environment, which you can do with the following command:\n",
    "```bash\n",
    "python -m pip install jupyter\n",
    "```\n",
    "\n",
    "Then, once this has been installed, you can start Jupyter Notebook by running the following command:\n",
    "```bash\n",
    "python -m jupyter notebook\n",
    "```\n",
    "\n",
    "A web browser should now open up with a URL such as the following: `http://localhost:8888/tree`. If it doesn't, copy and paste the command as directed in the terminal. This will likely take the form of:\n",
    "\n",
    "```bash\n",
    "http://localhost:8888/?token=xxxxxxxxxx\n",
    "```\n",
    "With `xxxxxxxxxx` a very long collection of letters and numbers. Once you are on the page, you will be able to navigate to a location of your choice and create a new file, by clicking the `New` button in the top right, followed by `Python 3`. You should then be able to proceed and follow the tutorials in this documentation.\n",
    "\n",
    "### Missing packages\n",
    "\n",
    "If, when running a cell, you get any errors such as:\n",
    "\n",
    "```bash\n",
    "ModuleNotFoundError: No module named 'pandas'\n",
    "```\n",
    "\n",
    "Then you are trying to use a package (`pandas` in the example) that is not available in the current environment. It is possible to install the missing packages by running the following in the Jupyter notebook:\n",
    "\n",
    "```bash\n",
    "!pip install pandas\n",
    "```\n",
    "\n",
    "The package will be installed in whatever virtual environment Jupyter is running in."
   ]
  },
  {
   "cell_type": "markdown",
   "metadata": {},
   "source": [
    "## Visualisation\n",
    "\n",
    "First, we need to load the appropriate packages required to load and visualise the results, which you can do by running the following Python commands in a notebook cell:"
   ]
  },
  {
   "cell_type": "code",
   "execution_count": null,
   "metadata": {},
   "outputs": [],
   "source": [
    "import matplotlib.pyplot as plt\n",
    "import pandas as pd"
   ]
  },
  {
   "cell_type": "markdown",
   "metadata": {},
   "source": [
    "Next, we will load `MCACapacity.csv` file and print the first five rows of the table using the pandas library:"
   ]
  },
  {
   "cell_type": "code",
   "execution_count": null,
   "metadata": {},
   "outputs": [],
   "source": [
    "mca_capacity = pd.read_csv(\"Results/MCACapacity.csv\")\n",
    "mca_capacity.head()"
   ]
  },
  {
   "cell_type": "markdown",
   "metadata": {},
   "source": [
    "Finally, we will visualise the data for each of the sectors, with capacity on the y-axis and year on the x-axis. Don't worry too much about the code if some of it is unfamiliar - we effectively split the data into each sector, sum the capacity for each technology, and then create a stacked bar chart for each."
   ]
  },
  {
   "cell_type": "code",
   "execution_count": null,
   "metadata": {},
   "outputs": [],
   "source": [
    "fig, axes = plt.subplots(1, 3)\n",
    "for ax, (sector_name, sector_data) in zip(axes, mca_capacity.groupby(\"sector\")):\n",
    "    sector_capacity = sector_data.groupby([\"year\", \"technology\"]).sum().reset_index()\n",
    "    sector_capacity.pivot(index=\"year\", columns=\"technology\", values=\"capacity\").plot(\n",
    "        kind=\"bar\", stacked=True, ax=ax\n",
    "    )\n",
    "    ax.set_ylabel(\"Capacity (PJ)\")\n",
    "    ax.set_xlabel(\"Year\")\n",
    "    ax.set_title(f\"{sector_name.capitalize()} Sector:\", fontsize=10)\n",
    "    ax.legend(title=None, prop={\"size\": 8})\n",
    "    ax.tick_params(axis=\"both\", labelsize=8)\n",
    "\n",
    "fig.set_size_inches(8, 2.5)\n",
    "fig.subplots_adjust(wspace=0.5)"
   ]
  },
  {
   "cell_type": "markdown",
   "metadata": {},
   "source": [
    "In this toy example, we can see that the end-use technology of choice in the residential sector becomes a heatpump, which displaces the gas boiler. To account for the increase in demand for electricity, the agent invests heavily in wind turbines.\n",
    "\n",
    "Note, that the units are in petajoules (PJ). MUSE requires consistent units across each of the sectors, and each of the input files (which we will see later). The model does not make any unit conversion internally."
   ]
  },
  {
   "cell_type": "markdown",
   "metadata": {},
   "source": [
    "## Summary\n",
    "\n",
    "In this exercise we have shown how to run the default model that comes with MUSE, and how to visualise the investment decisions made in the simulation. In future exercises we will show how to modify the input files to run different, more interesting, scenarios."
   ]
  },
  {
   "cell_type": "markdown",
   "metadata": {},
   "source": []
  }
 ],
 "metadata": {
  "kernelspec": {
   "display_name": "Python 3 (ipykernel)",
   "language": "python",
   "name": "python3"
  },
  "language_info": {
   "codemirror_mode": {
    "name": "ipython",
    "version": 3
   },
   "file_extension": ".py",
   "mimetype": "text/x-python",
   "name": "python",
   "nbconvert_exporter": "python",
   "pygments_lexer": "ipython3",
   "version": "3.12.3"
  }
 },
 "nbformat": 4,
 "nbformat_minor": 4
}
